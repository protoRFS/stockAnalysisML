{
 "cells": [
  {
   "cell_type": "markdown",
   "id": "27569871-1d4b-4068-afb0-7d617ee3e6e0",
   "metadata": {},
   "source": [
    "**File:** 0.0-rfs-stock_data_scrapping.py<br>\n",
    "**Author:** Ryne F. Shelton<br>\n",
    "**Contact:** rfshelton@att.net<br>\n",
    "_____________\n",
    "**Description:**<br>\n",
    "This script fetches stock price data from finance.yahoo.com and saves it to project '*../data/external*' file location.  "
   ]
  },
  {
   "cell_type": "code",
   "execution_count": 4,
   "id": "250726a9-4f5c-4e4a-99b7-90d37bcf26a7",
   "metadata": {},
   "outputs": [
    {
     "name": "stderr",
     "output_type": "stream",
     "text": [
      "Matplotlib is building the font cache; this may take a moment.\n"
     ]
    }
   ],
   "source": [
    "import numpy as np\n",
    "import pandas as pd\n",
    "import yfinance as yf"
   ]
  },
  {
   "cell_type": "code",
   "execution_count": 7,
   "id": "0c7ebdeb-d9cb-44a3-9ee7-4bf0d68658bd",
   "metadata": {},
   "outputs": [],
   "source": [
    "# my_lst = ['appl','intc','nvda']\n",
    "# period = '5y'"
   ]
  },
  {
   "cell_type": "code",
   "execution_count": 16,
   "id": "09c1216e-4eda-4921-b719-b4668a0a4f39",
   "metadata": {},
   "outputs": [],
   "source": [
    "def get_yfinance_data(ticker_list,period):\n",
    "    for i in range(len(ticker_list)):\n",
    "        tick = yf.Ticker(ticker_list[i])\n",
    "        df=tick.history(period=period)\n",
    "        df.to_csv(\"../data/external/\"+ticker_list[i]+\"_data_raw\")"
   ]
  }
 ],
 "metadata": {
  "kernelspec": {
   "display_name": "Python 3 (ipykernel)",
   "language": "python",
   "name": "python3"
  },
  "language_info": {
   "codemirror_mode": {
    "name": "ipython",
    "version": 3
   },
   "file_extension": ".py",
   "mimetype": "text/x-python",
   "name": "python",
   "nbconvert_exporter": "python",
   "pygments_lexer": "ipython3",
   "version": "3.12.4"
  }
 },
 "nbformat": 4,
 "nbformat_minor": 5
}
